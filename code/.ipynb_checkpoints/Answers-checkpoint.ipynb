{
 "cells": [
  {
   "cell_type": "markdown",
   "metadata": {},
   "source": [
    "## Questions to Answer\n",
    "        \n",
    "        ## 1.Which brewery produces the strongest beers by ABV%?\n",
    "        ## 2.If you had to pick 3 beers to recommend using only this data, which would you pick?\n",
    "        ## 3. Which of the factors (aroma, taste, appearance, palette) are most important in determining the overall quality of a beer?\n",
    "        ## 4.Lastly, if I typically enjoy a beer due to its aroma and appearance, which beer style should I try?\n"
   ]
  },
  {
   "cell_type": "code",
   "execution_count": null,
   "metadata": {},
   "outputs": [],
   "source": [
    "df_raw['beer_ABV'].argmax() ### python 2 versions are depricated\n",
    "df_raw['beer_ABV'].idxmax() ### so using python 3 for stability purposes"
   ]
  },
  {
   "cell_type": "code",
   "execution_count": null,
   "metadata": {},
   "outputs": [],
   "source": []
  }
 ],
 "metadata": {
  "kernelspec": {
   "display_name": "Python 3",
   "language": "python",
   "name": "python3"
  },
  "language_info": {
   "codemirror_mode": {
    "name": "ipython",
    "version": 3
   },
   "file_extension": ".py",
   "mimetype": "text/x-python",
   "name": "python",
   "nbconvert_exporter": "python",
   "pygments_lexer": "ipython3",
   "version": "3.6.7"
  }
 },
 "nbformat": 4,
 "nbformat_minor": 2
}
