{
 "cells": [
  {
   "cell_type": "markdown",
   "metadata": {},
   "source": [
    "### ***Final Results***\n",
    "\n",
    "\n",
    "### Questions to Answer\n",
    "### Which brewery produces the strongest beers by ABV%?\n",
    "  ### A: Schorschbräu\n",
    "\n",
    "### 2.If you had to pick 3 beers to recommend using only this data, which would you pick?\n",
    "## Top Three beer recomendations \n",
    "#1. Black Sheep Ale (Special) ; brewery_ID:1417\n",
    "#2. Founders RÃ¼bÃ¦us ; brewery_ID:1199\n",
    "#3.Aecht Schlenkerla Rauchbier MÃ¤rzen ; brewery_ID:263\n",
    "\n",
    "They have almost similar avegare ratings and almost similar Total ratings which near in the limit of 75 to 95 and also based on similarity scores\n",
    "\n",
    "### Which of the factors (aroma, taste, appearance, palette) are most important in determining the overall quality of a beer?\n",
    "   A: Taste is most important when determining the overall quality\n",
    "### Lastly, if I typically enjoy a beer due to its aroma and appearance, which beer style should I try?\n",
    "   A: American Double / Imperial Stout\n",
    "\n"
   ]
  }
 ],
 "metadata": {
  "kernelspec": {
   "display_name": "Python 3",
   "language": "python",
   "name": "python3"
  },
  "language_info": {
   "codemirror_mode": {
    "name": "ipython",
    "version": 3
   },
   "file_extension": ".py",
   "mimetype": "text/x-python",
   "name": "python",
   "nbconvert_exporter": "python",
   "pygments_lexer": "ipython3",
   "version": "3.6.7"
  }
 },
 "nbformat": 4,
 "nbformat_minor": 2
}
