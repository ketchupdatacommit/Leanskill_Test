{
 "cells": [
  {
   "cell_type": "markdown",
   "metadata": {},
   "source": [
    "## Questions to Answer\n",
    "        \n",
    "## 1.Which brewery produces the strongest beers by ABV%?\n",
    "        ## 2.If you had to pick 3 beers to recommend using only this data, which would you pick?\n",
    "        ## 3. Which of the factors (aroma, taste, appearance, palette) are most important in determining the overall quality of a beer?\n",
    "        ## 4.Lastly, if I typically enjoy a beer due to its aroma and appearance, which beer style should I try?\n",
    "        \n",
    "        \n",
    "### All of the Null Treatments and other subsettings have been copied from the EDA.ipynb jupyter notebook Please refer to that if you find any confusions\n"
   ]
  },
  {
   "cell_type": "markdown",
   "metadata": {},
   "source": [
    "### **Let us check the ABV for all these beers**"
   ]
  },
  {
   "cell_type": "code",
   "execution_count": 3,
   "metadata": {},
   "outputs": [],
   "source": [
    "## Loading the important libraries\n",
    "import numpy as np\n",
    "import pandas as pd\n",
    "import matplotlib.pyplot as plt\n",
    "import missingno as msno\n",
    "import seaborn as sns\n",
    "%matplotlib inline\n"
   ]
  },
  {
   "cell_type": "code",
   "execution_count": 6,
   "metadata": {},
   "outputs": [
    {
     "data": {
      "text/plain": [
       "Index(['index', 'beer_ABV', 'beer_beerId', 'beer_brewerId', 'beer_name',\n",
       "       'beer_style', 'review_appearance', 'review_aroma', 'review_overall',\n",
       "       'review_palate', 'review_taste', 'review_text', 'review_timeStruct',\n",
       "       'review_timeUnix', 'user_ageInSeconds', 'user_birthdayRaw',\n",
       "       'user_birthdayUnix', 'user_gender', 'user_profileName'],\n",
       "      dtype='object')"
      ]
     },
     "execution_count": 6,
     "metadata": {},
     "output_type": "execute_result"
    }
   ],
   "source": [
    "df_raw = pd.read_csv('C:/Lean_Skill_InterviewTest/data/beer-review-data-set.csv')\n",
    "df_raw[\"user_birthdayRaw\"].fillna(0,inplace= True)\n",
    "df_raw[\"review_text\"].fillna(0,inplace= True)\n",
    "df_raw[\"user_birthdayRaw\"].fillna('unknwn',inplace= True)\n",
    "df_raw[\"user_birthdayUnix\"].fillna(0,inplace= True)\n",
    "df_raw[\"user_gender\"].fillna('unknwn',inplace= True)\n",
    "df_raw[\"user_ageInSeconds\"].fillna('0',inplace= True)\n",
    "df_raw[\"user_profileName\"].fillna('unknwn',inplace= True)\n",
    "df_raw.isnull().sum()\n",
    "df_raw.columns"
   ]
  },
  {
   "cell_type": "code",
   "execution_count": 7,
   "metadata": {},
   "outputs": [
    {
     "data": {
      "text/plain": [
       "<matplotlib.axes._subplots.AxesSubplot at 0x11194438>"
      ]
     },
     "execution_count": 7,
     "metadata": {},
     "output_type": "execute_result"
    },
    {
     "data": {
      "image/png": "[encoded data removed]",
      "text/plain": [
       "<Figure size 432x288 with 1 Axes>"
      ]
     },
     "metadata": {
      "needs_background": "light"
     },
     "output_type": "display_data"
    }
   ],
   "source": [
    "df_raw['beer_ABV'].hist(bins=50)"
   ]
  },
  {
   "cell_type": "markdown",
   "metadata": {},
   "source": [
    "***So the average ABV ranges between 4 to roughly 15***"
   ]
  },
  {
   "cell_type": "markdown",
   "metadata": {},
   "source": [
    "***lets check for everything thats going above 14***"
   ]
  },
  {
   "cell_type": "markdown",
   "metadata": {},
   "source": [
    "### ***Answer 1***"
   ]
  },
  {
   "cell_type": "code",
   "execution_count": 8,
   "metadata": {},
   "outputs": [],
   "source": [
    "abv_above_14=df_raw[df_raw['beer_ABV'] > 14.]"
   ]
  },
  {
   "cell_type": "code",
   "execution_count": 9,
   "metadata": {},
   "outputs": [
    {
     "data": {
      "text/plain": [
       "beer_name\n",
       "Enrico's Cure                                        14.50\n",
       "Jeffersons Reserve Big Fella Bourbon Barrel Stout    16.00\n",
       "Schorsch Weizen 16%                                  16.00\n",
       "Schorschbock                                         16.00\n",
       "SchorschbrÃ¤u Schorschbock 31%                       30.86\n",
       "SchorschbrÃ¤u Schorschbock 40%                       39.44\n",
       "SchorschbrÃ¤u Schorschbock 43%                       43.00\n",
       "SchorschbrÃ¤u Schorschbock 57%                       57.70\n",
       "Trafalgar Korruptor                                  15.00\n",
       "Name: beer_ABV, dtype: float64"
      ]
     },
     "execution_count": 9,
     "metadata": {},
     "output_type": "execute_result"
    }
   ],
   "source": [
    "Top_Highest_ABV_beers=abv_above_14.groupby('beer_name')['beer_ABV'].mean()\n",
    "Top_Highest_ABV_beers"
   ]
  },
  {
   "cell_type": "markdown",
   "metadata": {},
   "source": [
    "***A total of 9 beers are there who get above the 14 % average mark of ABV this percentage can also be changed based on the higher amount of ABV %\n",
    "since we have found the total beers with the highest ABV %  lets try to figure out how can we find the highest ABV % producing brewery also***"
   ]
  },
  {
   "cell_type": "code",
   "execution_count": 10,
   "metadata": {},
   "outputs": [
    {
     "data": {
      "text/plain": [
       "beer_brewerId  beer_name                                        \n",
       "395            Jeffersons Reserve Big Fella Bourbon Barrel Stout    16.00\n",
       "765            Trafalgar Korruptor                                  15.00\n",
       "6513           Schorsch Weizen 16%                                  16.00\n",
       "               Schorschbock                                         16.00\n",
       "               SchorschbrÃ¤u Schorschbock 31%                       30.86\n",
       "               SchorschbrÃ¤u Schorschbock 40%                       39.44\n",
       "               SchorschbrÃ¤u Schorschbock 43%                       43.00\n",
       "               SchorschbrÃ¤u Schorschbock 57%                       57.70\n",
       "13228          Enrico's Cure                                        14.50\n",
       "Name: beer_ABV, dtype: float64"
      ]
     },
     "execution_count": 10,
     "metadata": {},
     "output_type": "execute_result"
    }
   ],
   "source": [
    "abv_above_14=df_raw[df_raw['beer_ABV'] > 14.]\n",
    "Top_Highest_ABV_brewerId=abv_above_14.groupby(['beer_brewerId','beer_name'])['beer_ABV'].mean()\n",
    "Top_Highest_ABV_brewerId"
   ]
  },
  {
   "cell_type": "markdown",
   "metadata": {},
   "source": [
    "***A total of 4 brewers are there who get above the 14 % average mark of ABV inclusive of the 9 beers that are there in the high ABV % \n",
    "by looking at the above data we can say that SchorschbrÃ¤u Schorschbock 57%  has the highest % of ABV from all the comparative breweries***"
   ]
  },
  {
   "cell_type": "code",
   "execution_count": 25,
   "metadata": {},
   "outputs": [
    {
     "name": "stderr",
     "output_type": "stream",
     "text": [
      "c:\\python36\\lib\\site-packages\\ipykernel_launcher.py:1: FutureWarning: 'argmax' is deprecated, use 'idxmax' instead. The behavior of 'argmax'\n",
      "will be corrected to return the positional maximum in the future.\n",
      "Use 'series.values.argmax' to get the position of the maximum now.\n",
      "  \"\"\"Entry point for launching an IPython kernel.\n"
     ]
    },
    {
     "data": {
      "text/plain": [
       "33166"
      ]
     },
     "execution_count": 25,
     "metadata": {},
     "output_type": "execute_result"
    }
   ],
   "source": [
    "df_raw['beer_ABV'].argmax() ### python 2 versions are depricated"
   ]
  },
  {
   "cell_type": "code",
   "execution_count": 26,
   "metadata": {},
   "outputs": [
    {
     "data": {
      "text/plain": [
       "33166"
      ]
     },
     "execution_count": 26,
     "metadata": {},
     "output_type": "execute_result"
    }
   ],
   "source": [
    "df_raw['beer_ABV'].idxmax() ### so using python 3 for stability purposes"
   ]
  },
  {
   "cell_type": "code",
   "execution_count": 31,
   "metadata": {},
   "outputs": [
    {
     "data": {
      "text/plain": [
       "index                                                            11997\n",
       "beer_ABV                                                          57.7\n",
       "beer_beerId                                                      73368\n",
       "beer_brewerId                                                     6513\n",
       "beer_name                               SchorschbrÃ¤u Schorschbock 57%\n",
       "beer_style                                                     Eisbock\n",
       "review_appearance                                                    4\n",
       "review_aroma                                                         4\n",
       "review_overall                                                       4\n",
       "review_palate                                                        4\n",
       "review_taste                                                       3.5\n",
       "review_text          New world strongest beer. Very limited, only 3...\n",
       "review_timeStruct    {'min': 28, 'hour': 12, 'mday': 23, 'sec': 21,...\n",
       "review_timeUnix                                             1316780901\n",
       "user_ageInSeconds                                    user_ageInSeconds\n",
       "user_birthdayRaw                                                     0\n",
       "user_birthdayUnix                                                    0\n",
       "user_gender                                                     unknwn\n",
       "user_profileName                                           kappldav123\n",
       "Name: 33166, dtype: object"
      ]
     },
     "execution_count": 31,
     "metadata": {},
     "output_type": "execute_result"
    }
   ],
   "source": [
    "High_ABV_Brewery=df_raw.iloc[33166]\n",
    "High_ABV_Brewery"
   ]
  },
  {
   "cell_type": "code",
   "execution_count": null,
   "metadata": {},
   "outputs": [],
   "source": []
  }
 ],
 "metadata": {
  "kernelspec": {
   "display_name": "Python 3",
   "language": "python",
   "name": "python3"
  },
  "language_info": {
   "codemirror_mode": {
    "name": "ipython",
    "version": 3
   },
   "file_extension": ".py",
   "mimetype": "text/x-python",
   "name": "python",
   "nbconvert_exporter": "python",
   "pygments_lexer": "ipython3",
   "version": "3.6.7"
  }
 },
 "nbformat": 4,
 "nbformat_minor": 2
}
